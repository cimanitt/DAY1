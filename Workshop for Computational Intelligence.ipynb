{
 "metadata": {
  "name": "",
  "signature": "sha256:090d44515b6a1c0050977127dade340cda1eae9144f78c5764175de6521b7dd3"
 },
 "nbformat": 3,
 "nbformat_minor": 0,
 "worksheets": [
  {
   "cells": [
    {
     "cell_type": "heading",
     "level": 1,
     "metadata": {},
     "source": [
      "Workshop for Computational Intelligence"
     ]
    },
    {
     "cell_type": "heading",
     "level": 1,
     "metadata": {},
     "source": [
      "SVM Classifier"
     ]
    },
    {
     "cell_type": "code",
     "collapsed": false,
     "input": [
      "from sklearn import metrics\n",
      "from sklearn.metrics import accuracy_score\n",
      "from sklearn.svm import SVC\n",
      "#from sklearn import svm\n",
      "from sklearn.model_selection import train_test_split\n",
      "import numpy as np\n",
      "from sklearn.metrics import roc_auc_score\n",
      "from sklearn.feature_extraction import text \n",
      "from sklearn.metrics import confusion_matrix\n",
      "from sklearn import datasets\n",
      "iris=datasets.load_iris()\n",
      "X=iris.data[:,:]\n",
      "y=iris.target\n",
      "X_train,X_test,y_train,y_test=train_test_split(X,y,random_state=1,test_size=0.25)"
     ],
     "language": "python",
     "metadata": {},
     "outputs": [],
     "prompt_number": 1
    },
    {
     "cell_type": "code",
     "collapsed": false,
     "input": [
      "clf1 =SVC(kernel=\"linear\")\n",
      "%time clf1.fit(X_train, y_train)\n",
      "y_pred_class=clf1.predict(X_test)\n",
      "print metrics.classification_report(y_test, y_pred_class)\n",
      "from sklearn import metrics\n",
      "print metrics.accuracy_score(y_test,y_pred_class)\n",
      "print confusion_matrix(y_test,y_pred_class)"
     ],
     "language": "python",
     "metadata": {},
     "outputs": [
      {
       "output_type": "stream",
       "stream": "stdout",
       "text": [
        "CPU times: user 780 \u00b5s, sys: 338 \u00b5s, total: 1.12 ms\n",
        "Wall time: 806 \u00b5s\n",
        "              precision    recall  f1-score   support\n",
        "\n",
        "           0       1.00      1.00      1.00        13\n",
        "           1       1.00      1.00      1.00        16\n",
        "           2       1.00      1.00      1.00         9\n",
        "\n",
        "   micro avg       1.00      1.00      1.00        38\n",
        "   macro avg       1.00      1.00      1.00        38\n",
        "weighted avg       1.00      1.00      1.00        38\n",
        "\n",
        "1.0\n",
        "[[13  0  0]\n",
        " [ 0 16  0]\n",
        " [ 0  0  9]]\n"
       ]
      }
     ],
     "prompt_number": 4
    },
    {
     "cell_type": "heading",
     "level": 1,
     "metadata": {},
     "source": [
      "K-Nearest Neighbour"
     ]
    },
    {
     "cell_type": "code",
     "collapsed": false,
     "input": [
      "from sklearn.neighbors import KNeighborsClassifier\n",
      "\n",
      "# instantiate learning model (k = 3)\n",
      "knn = KNeighborsClassifier(n_neighbors=3)\n",
      "# fitting the model\n",
      "knn.fit(X_train, y_train)\n",
      "\n",
      "# predict the response\n",
      "y_pred1 = knn.predict(X_test)\n",
      "\n",
      "# evaluate accuracy\n",
      "print accuracy_score(y_test, y_pred1) \n",
      "print metrics.classification_report(y_test, y_pred1)\n",
      "from sklearn import metrics\n",
      "print metrics.accuracy_score(y_test,y_pred1)\n",
      "print confusion_matrix(y_test,y_pred1)"
     ],
     "language": "python",
     "metadata": {},
     "outputs": [
      {
       "output_type": "stream",
       "stream": "stdout",
       "text": [
        "1.0\n",
        "              precision    recall  f1-score   support\n",
        "\n",
        "           0       1.00      1.00      1.00        13\n",
        "           1       1.00      1.00      1.00        16\n",
        "           2       1.00      1.00      1.00         9\n",
        "\n",
        "   micro avg       1.00      1.00      1.00        38\n",
        "   macro avg       1.00      1.00      1.00        38\n",
        "weighted avg       1.00      1.00      1.00        38\n",
        "\n",
        "1.0\n",
        "[[13  0  0]\n",
        " [ 0 16  0]\n",
        " [ 0  0  9]]\n"
       ]
      }
     ],
     "prompt_number": 10
    },
    {
     "cell_type": "heading",
     "level": 1,
     "metadata": {},
     "source": [
      "Naive Bayes Classifier"
     ]
    },
    {
     "cell_type": "code",
     "collapsed": false,
     "input": [
      "from sklearn.naive_bayes import GaussianNB\n",
      "clf = GaussianNB()\n",
      "%time clf.fit(X_train, y_train)\n",
      "y_pred_class1=clf.predict(X_test)\n",
      "print metrics.classification_report(y_test, y_pred_class1)\n",
      "from sklearn import metrics\n",
      "print metrics.accuracy_score(y_test,y_pred_class1)\n",
      "print confusion_matrix(y_test,y_pred_class1)"
     ],
     "language": "python",
     "metadata": {},
     "outputs": [
      {
       "output_type": "stream",
       "stream": "stdout",
       "text": [
        "CPU times: user 7.01 ms, sys: 0 ns, total: 7.01 ms\n",
        "Wall time: 5.51 ms\n",
        "              precision    recall  f1-score   support\n",
        "\n",
        "           0       1.00      1.00      1.00        13\n",
        "           1       1.00      0.94      0.97        16\n",
        "           2       0.90      1.00      0.95         9\n",
        "\n",
        "   micro avg       0.97      0.97      0.97        38\n",
        "   macro avg       0.97      0.98      0.97        38\n",
        "weighted avg       0.98      0.97      0.97        38\n",
        "\n",
        "0.9736842105263158\n",
        "[[13  0  0]\n",
        " [ 0 15  1]\n",
        " [ 0  0  9]]\n"
       ]
      }
     ],
     "prompt_number": 5
    },
    {
     "cell_type": "heading",
     "level": 1,
     "metadata": {},
     "source": [
      "SPAM DATASET"
     ]
    },
    {
     "cell_type": "code",
     "collapsed": false,
     "input": [
      "df = pd.read_csv('spam.csv',delimiter=',')\n",
      "df.head()"
     ],
     "language": "python",
     "metadata": {},
     "outputs": []
    },
    {
     "cell_type": "code",
     "collapsed": false,
     "input": [
      "df.drop(['Unnamed: 2', 'Unnamed: 3', 'Unnamed: 4'],axis=1,inplace=True)\n",
      "df.info()"
     ],
     "language": "python",
     "metadata": {},
     "outputs": []
    },
    {
     "cell_type": "code",
     "collapsed": false,
     "input": [
      "Understand the distribution better."
     ],
     "language": "python",
     "metadata": {},
     "outputs": []
    },
    {
     "cell_type": "code",
     "collapsed": false,
     "input": [
      "import matplotlib.pyplot as plt\n",
      "import seaborn as sns\n",
      "sns.countplot(df.v1)\n",
      "plt.xlabel('Label')\n",
      "plt.title('Number of ham and spam messages')"
     ],
     "language": "python",
     "metadata": {},
     "outputs": []
    },
    {
     "cell_type": "code",
     "collapsed": false,
     "input": [
      "X = df.v2\n",
      "Y = df.v1\n",
      "le = LabelEncoder()\n",
      "Y = le.fit_transform(Y)\n",
      "Y = Y.reshape(-1,1)"
     ],
     "language": "python",
     "metadata": {},
     "outputs": []
    },
    {
     "cell_type": "code",
     "collapsed": false,
     "input": [
      "X_train,X_test,Y_train,Y_test = train_test_split(X,Y,test_size=0.15)"
     ],
     "language": "python",
     "metadata": {},
     "outputs": []
    }
   ],
   "metadata": {}
  }
 ]
}